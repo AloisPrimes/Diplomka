{
 "cells": [
  {
   "source": [
    "# **Diplomová práce - výpočty**\n",
    "### **Jméno:** Alois Primes\n",
    "### **Název práce:** MODULARNÍ HORIZONTÁLNÍ KOTEL – HRSG\n",
    "### **Zadání**\n",
    "**Stručná charakteristika problematiky úkolu:**\n",
    "\n",
    "Práce je zaměřena na návrh horizontálního kotle využívajícího spaliny za plynovou spalovací turbínou pro produkci páry k dalšímu energetickému využití. Kotel by měl být moderní konstrukce, zahrnující\n",
    "maximální prefabrikaci transportních bloků (modulů), která je ovlivněna podmínkami dopravního profilu na místo stavby. Kotel bude řešen jako modulární, s horizontálním prouděním spalin, konvekčním\n",
    "výparníkem, výhřevnými plochami ohříváku vody (ekonomizéry) a přehříváky páry s regulací teploty páry vstřikem napájecí vody, odebírané mezi dvěma ekonomizéry.\n",
    "\n",
    "**Základní parametry kotle jsou:** parní výkon 76 t/h, tlak 3,1 MPa, výstupní teplota 370 °C. Teplota\n",
    "napájecí vody kotle je 71°C. Další parametry kotle a odpadních spalin budou upřesněny v rámci\n",
    "realizace práce.\n",
    "\n",
    "**Cíle diplomové práce:**\n",
    "\n",
    "Zpracovat tepelný výpočet kotle.\n",
    "Zpracovat rozměrový návrh kotle, včetně základní výkresové dokumentace kotle a dispozičního\n",
    "řešení.\n",
    "Vyčíslit dosaženou účinnost kotle při vztažné teplotě 25 °C, použijte přímou metodu.\n",
    "Zpracovat diagram průběhu teploty pracovního média a spalin a stanovit bilanci vstřiku."
   ],
   "cell_type": "markdown",
   "metadata": {}
  },
  {
   "cell_type": "code",
   "execution_count": 1,
   "metadata": {},
   "outputs": [],
   "source": [
    "# Instalace a aktualizace modulů\n",
    "\n",
    "# !pip install --upgrade pip\n",
    "# !pip install --upgrade tabulate\n",
    "# !pip install --upgrade forallpeople\n",
    "# !pip install --upgrade handcalcs\n",
    "# !pip install --upgrade pytexit\n",
    "# !pip install --upgrade pyXSteam\n",
    "# !pip install --upgrade CoolProp"
   ]
  },
  {
   "cell_type": "code",
   "execution_count": 2,
   "metadata": {},
   "outputs": [],
   "source": [
    "# Import knihoven\n",
    "\n",
    "import pandas as pd\n",
    "from CoolProp.CoolProp import PropsSI\n",
    "import handcalcs.render\n",
    "from math import pi, e\n",
    "from pyXSteam.XSteam import XSteam\n",
    "from tabulate import tabulate"
   ]
  },
  {
   "cell_type": "code",
   "execution_count": 3,
   "metadata": {},
   "outputs": [],
   "source": [
    "# Nastavení prostředí a modulů\n",
    "\n",
    "%decimal_separator ,\n",
    "steam = XSteam(XSteam.UNIT_SYSTEM_MKS) # Jednotky: m/kg/sec/°C/bar/W"
   ]
  },
  {
   "source": [
    "## Definice pomocných funkcí"
   ],
   "cell_type": "markdown",
   "metadata": {}
  },
  {
   "cell_type": "code",
   "execution_count": 4,
   "metadata": {},
   "outputs": [],
   "source": [
    "def density(prvek, teplota, tlak):\n",
    "\n",
    "\t\"\"\"\n",
    "\tZadej požadavek ve formátu density('prvek', teplota [K], tlak [BAR])\n",
    "\tPříklad rho_CO2 = density('CO2', 293.15, 5.5)\n",
    "\tVypočte hustotu CO2 pro teplotu 20 °C (293.15 K) a 5.5 baru (550 000 Pa)\n",
    "    JEDNOTKA: kg/m^3\n",
    "\t\"\"\"\n",
    "\n",
    "\trho = PropsSI('D', 'T', teplota, 'P', tlak*100000, prvek)\n",
    "\treturn rho"
   ]
  },
  {
   "cell_type": "code",
   "execution_count": 5,
   "metadata": {},
   "outputs": [],
   "source": [
    "def conductivity(prvek, teplota, tlak):\n",
    "\n",
    "\t\"\"\"\n",
    "\tZadej požadavek ve formátu conductivity('prvek', teplota [K], tlak [bar])\n",
    "\tPříklad lambda_CO2 = conductivity('CO2', 293.15, 1.01325)\n",
    "\tVypočte vodivost CO2 pro teplotu 20 °C (293.15 K) a 1.01325 baru (101 325 Pa)\n",
    "    JEDNOTKA: W/m*K\n",
    "\t\"\"\"\n",
    "\n",
    "\tlambda_prvek = PropsSI('conductivity', 'T', teplota, 'P', tlak*100000, prvek)\n",
    "\treturn lambda_prvek"
   ]
  },
  {
   "cell_type": "code",
   "execution_count": 6,
   "metadata": {},
   "outputs": [],
   "source": [
    "def enthalpy(prvek, teplota, tlak):\n",
    "\n",
    "\t\"\"\"\n",
    "\tZadej požadavek ve formátu enthalpy('prvek', teplota [K], tlak [bar])\n",
    "\tPříklad h_CO2 = enthalpy('CO2', 293.15, 1.01325)\n",
    "\tVypočte entalpii CO2 pro teplotu 20 °C (293.15 K) a 1.01325 baru (101 325 Pa)\n",
    "\tJEDNOTKA: J/kg\n",
    "\t\"\"\"\n",
    "\n",
    "\th_prvek = PropsSI('H', 'T', teplota, 'P', tlak*100000, prvek)\n",
    "\treturn h_prvek"
   ]
  },
  {
   "cell_type": "code",
   "execution_count": 7,
   "metadata": {},
   "outputs": [],
   "source": [
    "def viscosity(prvek, teplota, tlak):\n",
    "\n",
    "\t\"\"\"\n",
    "\tZadej požadavek ve formátu viscosity('prvek', teplota [K], tlak [bar])\n",
    "\tPříklad eta_CO2 = viscosity('CO2', 293.15, 1.01325)\n",
    "\tVypočte viskozitu CO2 pro teplotu 20 °C (293.15 K) a 1.01325 baru (101 325 Pa)\n",
    "\tJEDNOTKA: Pa.s\n",
    "\t\"\"\"\n",
    "\n",
    "\teta_prvek = PropsSI('viscosity', 'T', teplota, 'P', tlak*100000, prvek)\n",
    "\treturn eta_prvek"
   ]
  },
  {
   "cell_type": "code",
   "execution_count": 8,
   "metadata": {},
   "outputs": [],
   "source": [
    "def cp(prvek, teplota, tlak):\n",
    "\n",
    "\t\"\"\"\n",
    "\tZadej požadavek ve formátu cp('prvek', teplota [K], tlak [bar])\n",
    "\tPříklad cp_CO2 = cp('CO2', 293.15, 1.01325)\n",
    "\tVypočte měrnou tepelnou kapacitu CO2 pro teplotu 20 °C (293.15 K) a 1.01325 baru (101 325 Pa)\n",
    "\tJEDNOTKA: J/kg*K\n",
    "\t\"\"\"\n",
    "\n",
    "\tcp_prvek = PropsSI('C', 'T', teplota, 'P', tlak*100000, prvek)\n",
    "\treturn cp_prvek"
   ]
  },
  {
   "cell_type": "code",
   "execution_count": 9,
   "metadata": {},
   "outputs": [],
   "source": [
    "def kin_viscosity(prvek, teplota, tlak):\n",
    "\n",
    "\t\"\"\"\n",
    "\tZadej požadavek ve formátu kin_viscosity('prvek', teplota [K], tlak [bar])\n",
    "\tPříklad nu_CO2 = kin_viscosity('CO2', 293.15, 1.01325)\n",
    "\tVypočte kinematickou viskozitu CO2 pro teplotu 20 °C (293.15 K) a 1.01325 baru (101 325 Pa)\n",
    "\tJEDNOTKA: m^2/s\n",
    "\t\"\"\"\n",
    "\teta_prvek = PropsSI('viscosity', 'T', teplota, 'P', tlak*100000, prvek)\n",
    "\trho_prvek = PropsSI('D', 'T', teplota, 'P', tlak*100000, prvek)\n",
    "\tnu_prvek = eta_prvek/rho_prvek\n",
    "\treturn nu_prvek"
   ]
  },
  {
   "source": [
    "## Základní parametry kotle"
   ],
   "cell_type": "markdown",
   "metadata": {}
  },
  {
   "cell_type": "code",
   "execution_count": 10,
   "metadata": {},
   "outputs": [
    {
     "output_type": "display_data",
     "data": {
      "text/plain": "<IPython.core.display.Latex object>",
      "text/latex": "\\[\n\\begin{aligned}\nm_{p} &= 76 \\; \\;\\textrm{(t/h)}\n &p_{out} &= 3{,}1 \\; \\;\\textrm{(MPa)}\n &t_{out} &= 370 \\; \\;\\textrm{(°C)}\n\\\\[10pt]\n t_{nv} &= 71 \\; \\;\\textrm{(°C)}\n &m_{vst} &= 0{,}36 \\; \\;\\textrm{(kg/s)}\n &t_{vst} &= 217 \\; \\;\\textrm{(°C)}\n\\\\[10pt]\\end{aligned}\n\\]"
     },
     "metadata": {}
    }
   ],
   "source": [
    "%%render params 2\n",
    "m_p = 76        #t/h\n",
    "p_out = 3.1     #MPa\n",
    "t_out = 370     #°C\n",
    "t_nv = 71       #°C\n",
    "m_vst = 0.36    #kg/s\n",
    "t_vst = 217     #°C"
   ]
  },
  {
   "source": [
    "## Parametry spalin ze spalovací turbíny"
   ],
   "cell_type": "markdown",
   "metadata": {}
  },
  {
   "cell_type": "code",
   "execution_count": 11,
   "metadata": {},
   "outputs": [],
   "source": [
    "R = 8.314462618 #J/kg/mol\n",
    "t_ref = 100+273.15 #°C"
   ]
  },
  {
   "source": [
    "#### koeficienty polynomů pro výpočet entalpií spalin"
   ],
   "cell_type": "markdown",
   "metadata": {}
  },
  {
   "cell_type": "code",
   "execution_count": 12,
   "metadata": {},
   "outputs": [],
   "source": [
    "# N2\n",
    "a_1_N2 = 0.3694063e+01\n",
    "a_2_N2 = -0.1334139e-02\n",
    "a_3_N2 = 0.2652067e-05\n",
    "a_4_N2 = -0.9775312e-09\n",
    "a_5_N2 = -0.9983837e-13\n",
    "a_6_N2 = -0.9758881e+03\n",
    "\n",
    "# O2\n",
    "a_1_O2 = 0.3721461e+01\n",
    "a_2_O2 = -0.2518398e-02\n",
    "a_3_O2 = 0.8589429e-05\n",
    "a_4_O2 = -0.8305377e-08\n",
    "a_5_O2 = 0.2710013e-11\n",
    "a_6_O2 = -0.9701834e+03\n",
    "\n",
    "# CO2\n",
    "a_1_CO2 = 0.2171539e+01\n",
    "a_2_CO2 = 0.1038499e-01\n",
    "a_3_CO2 = -0.1074106e-04\n",
    "a_4_CO2 = 0.6350127e-08\n",
    "a_5_CO2 = -0.1629149e-11\n",
    "a_6_CO2 = -0.9159472e+03"
   ]
  },
  {
   "cell_type": "code",
   "execution_count": 13,
   "metadata": {},
   "outputs": [
    {
     "output_type": "display_data",
     "data": {
      "text/plain": "<IPython.core.display.Latex object>",
      "text/latex": "\\[\n\\begin{aligned}\nm_{sp} &= 130{,}1 \\; \\;\\textrm{(kg/s)}\n &t_{sp} &= 562{,}0 \\; \\;\\textrm{(°C)}\n &x_{N2} &= 7{,}457 \\times 10 ^ {-1 } \\; \n\\\\[10pt]\n x_{O2} &= 1{,}289 \\times 10 ^ {-1 } \\; \n &x_{H2O} &= 8{,}010 \\times 10 ^ {-2 } \\; \n &x_{CO2} &= 3{,}640 \\times 10 ^ {-2 } \\; \n\\\\[10pt]\n x_{Ar} &= 8{,}900 \\times 10 ^ {-3 } \\;\\end{aligned}\n\\]"
     },
     "metadata": {}
    }
   ],
   "source": [
    "%%render params 3\n",
    "m_sp = 130.1    #kg/s\n",
    "t_sp = 562.0    #°C\n",
    "\n",
    "# Objemové složení spalin\n",
    "x_N2 = 0.7457\n",
    "x_O2 = 0.1289\n",
    "x_H2O = 0.0801\n",
    "x_CO2 = 0.0364\n",
    "x_Ar = 0.0089"
   ]
  },
  {
   "cell_type": "code",
   "execution_count": 14,
   "metadata": {},
   "outputs": [
    {
     "output_type": "display_data",
     "data": {
      "text/plain": "<IPython.core.display.Latex object>",
      "text/latex": "\\[\n\\begin{aligned}\nM_{N2} &= 0{,}028 \\; \\;\\textrm{(kg/kmol)}\n &M_{O2} &= 0{,}032 \\; \\;\\textrm{(kg/kmol)}\n &M_{H2O} &= 0{,}018 \\; \\;\\textrm{(kg/kmol)}\n\\\\[10pt]\n M_{CO2} &= 0{,}044 \\; \\;\\textrm{(kg/kmol)}\n &M_{Ar} &= 3{,}995 \\times 10 ^ {-2 } \\; \\;\\textrm{(kg/kmol)}\\end{aligned}\n\\]"
     },
     "metadata": {}
    }
   ],
   "source": [
    "%%render params 3\n",
    "\n",
    "# Molární hmotnost složek spalin (z podkladů)\n",
    "M_N2 = 28.0134e-03      #kg/kmol\n",
    "M_O2 = 31.9988e-03      #kg/kmol\n",
    "M_H2O = 18.0152e-03     #kg/kmol\n",
    "M_CO2 = 44.0095e-03     #kg/kmol\n",
    "M_Ar = 39.9480e-03      #kg/kmol"
   ]
  },
  {
   "cell_type": "code",
   "execution_count": 15,
   "metadata": {},
   "outputs": [
    {
     "output_type": "display_data",
     "data": {
      "text/plain": "<IPython.core.display.Latex object>",
      "text/latex": "\\[\n\\begin{aligned}\n\\rho_{N2} &= 1{,}25 \\; \\;\\textrm{(kg/m3)}\n &\\rho_{O2} &= 1{,}429 \\; \\;\\textrm{(kg/m3)}\n &\\rho_{H2O} &= 8{,}038 \\times 10 ^ {-1 } \\; \\;\\textrm{(kg/m3)}\n\\\\[10pt]\n \\rho_{CO2} &= 1{,}977 \\; \\;\\textrm{(kg/m3)}\n &\\rho_{Ar} &= 1{,}784 \\; \\;\\textrm{(kg/m3)}\n &\\rho_{sp} &= 1{,}269 \\; \\;\\textrm{(kg/m3)}\n\\\\[10pt]\\end{aligned}\n\\]"
     },
     "metadata": {}
    }
   ],
   "source": [
    "%%render params\n",
    "\n",
    "# Hustota složek spalin (z podkladů)\n",
    "rho_N2 = 1.2504     #kg/m3\n",
    "rho_O2 = 1.4290     #kg/m3\n",
    "rho_H2O = 0.8038    #kg/m3\n",
    "rho_CO2 = 1.9772    #kg/m3\n",
    "rho_Ar = 1.7840     #kg/m3\n",
    "rho_sp = x_N2*rho_N2 + x_O2*rho_O2 + x_H2O*rho_H2O + x_CO2*rho_CO2 + x_Ar*rho_Ar #kg/m3"
   ]
  },
  {
   "cell_type": "code",
   "execution_count": 16,
   "metadata": {},
   "outputs": [
    {
     "output_type": "display_data",
     "data": {
      "text/plain": "<IPython.core.display.Latex object>",
      "text/latex": "\\[\n\\begin{aligned}\nv_{N2} &= 22{,}403 \\; \\;\\textrm{(m3/kg)}\n &v_{O2} &= 22{,}392 \\; \\;\\textrm{(m3/kg)}\n &v_{H2O} &= 22{,}414 \\; \\;\\textrm{(m3/kg)}\n\\\\[10pt]\n v_{CO2} &= 22{,}258 \\; \\;\\textrm{(m3/kg)}\n &v_{Ar} &= 22{,}393 \\; \\;\\textrm{(m3/kg)}\\end{aligned}\n\\]"
     },
     "metadata": {}
    }
   ],
   "source": [
    "%%render params 3\n",
    "\n",
    "# Měrný objem složek spalin (z podkladů)\n",
    "v_N2 = 22.403     #m3/kg\n",
    "v_O2 = 22.392     #m3/kg\n",
    "v_H2O = 22.414    #m3/kg\n",
    "v_CO2 = 22.258    #m3/kg\n",
    "v_Ar = 22.393     #m3/kg"
   ]
  },
  {
   "cell_type": "code",
   "execution_count": 38,
   "metadata": {},
   "outputs": [
    {
     "output_type": "display_data",
     "data": {
      "text/plain": "<IPython.core.display.Latex object>",
      "text/latex": "\\[\n\\begin{aligned}\ni_{N2} &= 104{,}094 \\; \\;\\textrm{(kJ/m3n)}\n &i_{O2} &= 92{,}391 \\; \\;\\textrm{(kJ/m3n)}\n &i_{CO2} &= 86{,}861 \\; \\;\\textrm{(kJ/m3n)}\n\\\\[10pt]\n i_{Ar} &= 194{,}029 \\; \\;\\textrm{(blbě)}\n &i_{H2O} &= 2675{,}628 \\; \\;\\textrm{(blbě)}\n &i_{sp} &= 308{,}739 \\; \n\\\\[10pt]\\end{aligned}\n\\]"
     },
     "metadata": {}
    }
   ],
   "source": [
    "%%render params\n",
    "i_N2 = (a_1_N2 + a_2_N2*t_ref/2 + a_3_N2*t_ref**2/3 + a_4_N2*t_ref**3/4 + a_5_N2*t_ref**4/5 + a_6_N2/t_ref)*((R*t_ref)/M_N2)/1000 #kJ/m3n\n",
    "i_O2 = (a_1_O2 + a_2_O2*t_ref/2 + a_3_O2*t_ref**2/3 + a_4_O2*t_ref**3/4 + a_5_O2*t_ref**4/5 + a_6_O2/t_ref)*((R*t_ref)/M_O2)/1000 #kJ/m3n\n",
    "i_CO2 = (a_1_CO2 + a_2_CO2*t_ref/2 + a_3_CO2*t_ref**2/3 + a_4_CO2*t_ref**3/4 + a_5_CO2*t_ref**4/5 + a_6_CO2/t_ref)*((R*t_ref)/M_CO2)/1000 #kJ/m3n\n",
    "i_Ar = enthalpy('Ar', t_ref, 1.01)/1000 #blbě\n",
    "i_H2O = enthalpy('H2O',t_ref, 1.01)/1000 #blbě\n",
    "\n",
    "i_sp = x_N2*i_N2 + x_O2*i_O2 + x_CO2*i_CO2 + x_H2O*i_H2O + x_Ar*i_Ar"
   ]
  },
  {
   "source": [
    "#### Bod 1 (Konec druhého přehříváku, výstupní pára)"
   ],
   "cell_type": "markdown",
   "metadata": {}
  },
  {
   "cell_type": "code",
   "execution_count": 18,
   "metadata": {},
   "outputs": [
    {
     "output_type": "display_data",
     "data": {
      "text/plain": "<IPython.core.display.Latex object>",
      "text/latex": "\\[\n\\begin{aligned}\nt_{1} &= 370 \\; \\;\\textrm{(°C)}\n &p_{1} &= 3{,}1 \\; \\;\\textrm{(MPa)}\n &i_{1} &= 3160{,}749 \\; \\;\\textrm{(kJ/kg)}\n\\\\[10pt]\n v_{1} &= 9{,}093 \\times 10 ^ {-2 } \\; \\;\\textrm{(m3/kg)}\n &x_{1} &= 1{,}0 \\; \\;\\textrm{(-)}\\end{aligned}\n\\]"
     },
     "metadata": {}
    }
   ],
   "source": [
    "%%render params\n",
    "t_1 = t_out                     #°C\n",
    "p_1 = p_out                     #MPa\n",
    "i_1 = steam.h_pt(p_1*10,t_1)    #kJ/kg\n",
    "v_1 = steam.v_pt(p_1*10,t_1)    #m3/kg\n",
    "x_1 = steam.x_ph(p_1*10,i_1)    #-"
   ]
  },
  {
   "source": [
    "#### Bod 3 (Konec prvního přehříváku, před vstřikem)"
   ],
   "cell_type": "markdown",
   "metadata": {}
  },
  {
   "cell_type": "code",
   "execution_count": 19,
   "metadata": {},
   "outputs": [
    {
     "output_type": "display_data",
     "data": {
      "text/plain": "<IPython.core.display.Latex object>",
      "text/latex": "\\[\n\\begin{aligned}\nt_{3} &= 348 \\; \\;\\textrm{(°C)}\n &p_{3} &= 3{,}33 \\; \\;\\textrm{(MPa)}\n &i_{3} &= 3103{,}888 \\; \\;\\textrm{(kJ/kg)}\n\\\\[10pt]\n v_{3} &= 8{,}069 \\times 10 ^ {-2 } \\; \\;\\textrm{(m3/kg)}\n &x_{3} &= 1{,}0 \\; \\;\\textrm{(-)}\\end{aligned}\n\\]"
     },
     "metadata": {}
    }
   ],
   "source": [
    "%%render params\n",
    "t_3 = 348                       #°C\n",
    "p_3 = 3.33                      #MPa\n",
    "i_3 = steam.h_pt(p_3*10,t_3)    #kJ/kg\n",
    "v_3 = steam.v_pt(p_3*10,t_3)    #m3/kg\n",
    "x_3 = steam.x_ph(p_3*10,i_3)    #-"
   ]
  },
  {
   "source": [
    "#### Bod 4 (Začátek prvního přehříváku, po druhém výparníku)"
   ],
   "cell_type": "markdown",
   "metadata": {}
  },
  {
   "cell_type": "code",
   "execution_count": 20,
   "metadata": {},
   "outputs": [
    {
     "output_type": "display_data",
     "data": {
      "text/plain": "<IPython.core.display.Latex object>",
      "text/latex": "\\[\n\\begin{aligned}\np_{4} &= 3{,}38 \\; \\;\\textrm{(MPa)}\n &t_{4} &= 240{,}565 \\; \\;\\textrm{(°C)}\n &i_{4} &= 2803{,}002 \\; \\;\\textrm{(kJ/kg)}\n\\\\[10pt]\n v_{4} &= 5{,}911 \\times 10 ^ {-2 } \\; \\;\\textrm{(m3/kg)}\n &x_{4} &= 1{,}0 \\; \\;\\textrm{(-)}\\end{aligned}\n\\]"
     },
     "metadata": {}
    }
   ],
   "source": [
    "%%render params\n",
    "p_4 = 3.38                      #MPa\n",
    "t_4 = steam.tsat_p(p_4*10)      #°C\n",
    "i_4 = steam.hV_p(p_4*10)        #kJ/kg\n",
    "v_4 = steam.vV_p(p_4*10)        #m3/kg\n",
    "x_4 = steam.x_ph(p_4*10,i_4)    #-"
   ]
  },
  {
   "source": [
    "#### Bod 5 (začátek prvního výparníku, kde je sytá kapalina)"
   ],
   "cell_type": "markdown",
   "metadata": {}
  },
  {
   "cell_type": "code",
   "execution_count": 21,
   "metadata": {},
   "outputs": [
    {
     "output_type": "display_data",
     "data": {
      "text/plain": "<IPython.core.display.Latex object>",
      "text/latex": "\\[\n\\begin{aligned}\np_{5} &= 3{,}38 \\; \\;\\textrm{(MPa)}\n &t_{5} &= 240{,}565 \\; \\;\\textrm{(°C)}\n &i_{5} &= 1040{,}219 \\; \\;\\textrm{(kJ/kg)}\n\\\\[10pt]\n v_{5} &= 1{,}231 \\times 10 ^ {-3 } \\; \\;\\textrm{(m3/kg)}\n &x_{5} &= 0{,}0 \\; \\;\\textrm{(-)}\\end{aligned}\n\\]"
     },
     "metadata": {}
    }
   ],
   "source": [
    "%%render params\n",
    "p_5 = 3.38                      #MPa\n",
    "t_5 = steam.tsat_p(p_5*10)      #°C\n",
    "i_5 = steam.hL_p(p_5*10)        #kJ/kg\n",
    "v_5 = steam.vL_p(p_5*10)        #m3/kg\n",
    "x_5 = steam.x_ph(p_5*10,i_5)    #-"
   ]
  },
  {
   "source": [
    "#### Bod 6 (Za posledním ekonomizérem, před vstupem do výparníku)"
   ],
   "cell_type": "markdown",
   "metadata": {}
  },
  {
   "cell_type": "code",
   "execution_count": 22,
   "metadata": {},
   "outputs": [
    {
     "output_type": "display_data",
     "data": {
      "text/plain": "<IPython.core.display.Latex object>",
      "text/latex": "\\[\n\\begin{aligned}\np_{6} &= 3{,}68 \\; \\;\\textrm{(MPa)}\n &t_{6} &= 236 \\; \\;\\textrm{(°C)}\n &i_{6} &= 1018{,}575 \\; \\;\\textrm{(kJ/kg)}\n\\\\[10pt]\n v_{6} &= 1{,}220 \\times 10 ^ {-3 } \\; \\;\\textrm{(m3/kg)}\n &x_{6} &= 0{,}0 \\; \\;\\textrm{(-)}\\end{aligned}\n\\]"
     },
     "metadata": {}
    }
   ],
   "source": [
    "%%render params\n",
    "p_6 = 3.68                      #MPa\n",
    "t_6 = 236                       #°C\n",
    "i_6 = steam.h_pt(p_6*10, t_6)   #kJ/kg\n",
    "v_6 = steam.v_pt(p_6*10, t_6)   #m3/kg\n",
    "x_6 = steam.x_ph(p_6*10,i_6)    #-"
   ]
  },
  {
   "source": [
    "#### Bod 7 (mezi ekonomizéry)"
   ],
   "cell_type": "markdown",
   "metadata": {}
  },
  {
   "cell_type": "code",
   "execution_count": 23,
   "metadata": {},
   "outputs": [
    {
     "output_type": "display_data",
     "data": {
      "text/plain": "<IPython.core.display.Latex object>",
      "text/latex": "\\[\n\\begin{aligned}\np_{7} &= 3{,}74 \\; \\;\\textrm{(MPa)}\n &t_{7} &= 217 \\; \\;\\textrm{(°C)}\n &i_{7} &= 930{,}261 \\; \\;\\textrm{(kJ/kg)}\n\\\\[10pt]\n v_{7} &= 1{,}183 \\times 10 ^ {-3 } \\; \\;\\textrm{(m3/kg)}\n &x_{7} &= 0{,}0 \\; \\;\\textrm{(-)}\\end{aligned}\n\\]"
     },
     "metadata": {}
    }
   ],
   "source": [
    "%%render params\n",
    "p_7 = 3.74                      #MPa\n",
    "t_7 = 217                       #°C\n",
    "i_7 = steam.h_pt(p_7*10, t_7)   #kJ/kg\n",
    "v_7 = steam.v_pt(p_7*10, t_7)   #m3/kg\n",
    "x_7 = steam.x_ph(p_7*10,i_7)    #-\n"
   ]
  },
  {
   "source": [
    "#### Bod 2 (Začátek druhého přehříváku, po vstřiku)"
   ],
   "cell_type": "markdown",
   "metadata": {}
  },
  {
   "cell_type": "code",
   "execution_count": 24,
   "metadata": {},
   "outputs": [
    {
     "output_type": "display_data",
     "data": {
      "text/plain": "<IPython.core.display.Latex object>",
      "text/latex": "\\[\n\\begin{aligned}\np_{2} &= 3{,}33 \\; \\;\\textrm{(MPa)}\n &i_{2} &= 3066{,}802 \\; \\;\\textrm{(kJ/kg)}\n &t_{2} &= 332{,}731 \\; \\;\\textrm{(°C)}\n\\\\[10pt]\n v_{2} &= 7{,}811 \\times 10 ^ {-2 } \\; \\;\\textrm{(m3/kg)}\n &x_{2} &= 1{,}0 \\; \\;\\textrm{(-)}\\end{aligned}\n\\]"
     },
     "metadata": {}
    }
   ],
   "source": [
    "%%render params\n",
    "p_2 = p_3                           #MPa\n",
    "i_2 = (20.74*i_3 + 0.36*i_7)/21.10  #kJ/kg\n",
    "t_2 = steam.t_ph(p_2*10, i_2)       #°C\n",
    "v_2 = steam.v_ph(p_2*10, i_2)       #m3/kg\n",
    "x_2 = steam.x_ph(p_2*10,i_2)        #-"
   ]
  },
  {
   "source": [
    "#### Bod 8 (Před začátkem ekonomizéru, vstup napájecí vody)"
   ],
   "cell_type": "markdown",
   "metadata": {}
  },
  {
   "cell_type": "code",
   "execution_count": 25,
   "metadata": {},
   "outputs": [
    {
     "output_type": "display_data",
     "data": {
      "text/plain": "<IPython.core.display.Latex object>",
      "text/latex": "\\[\n\\begin{aligned}\nt_{8} &= 71 \\; \\;\\textrm{(°C)}\n &p_{8} &= 4 \\; \\;\\textrm{(MPa (NEVIM))}\n &i_{8} &= 300{,}443 \\; \\;\\textrm{(kJ/kg)}\n\\\\[10pt]\n v_{8} &= 0{,}001 \\; \\;\\textrm{(m3/kg)}\n &x_{8} &= 0{,}0 \\; \\;\\textrm{(-)}\\end{aligned}\n\\]"
     },
     "metadata": {}
    }
   ],
   "source": [
    "%%render params\n",
    "t_8 = 71                         #°C\n",
    "p_8 = 4                          #MPa (NEVIM)\n",
    "i_8 = steam.h_pt(p_8*10,t_8)     #kJ/kg\n",
    "v_8 = steam.v_pt(p_8*10,t_8)     #m3/kg\n",
    "x_8 = steam.x_ph(p_8*10,i_8)    #-"
   ]
  },
  {
   "source": [
    "### Tabulka bodová pro vodu a páru"
   ],
   "cell_type": "markdown",
   "metadata": {}
  },
  {
   "cell_type": "code",
   "execution_count": 26,
   "metadata": {},
   "outputs": [],
   "source": [
    "bodova_tabulka = pd.DataFrame(\n",
    "    {\n",
    "        \"T [°C]\": (t_1, t_2, t_3, t_4, t_5, t_6, t_7, t_8),\n",
    "        \"p [MPa]\": (p_1, p_2, p_3, p_4, p_5, p_6, p_7, p_8),\n",
    "        \"i [kJ/kg]\": (i_1, i_2, i_3, i_4, i_5, i_6, i_7, i_8),\n",
    "        \"v [m3/kg]\": (v_1, v_2, v_3, v_4, v_5, v_6, v_7, v_8),\n",
    "        \"x [-]\": (x_1, x_2, x_3, x_4, x_5, x_6, x_7, x_8),\n",
    "    },\n",
    "    index = ['1','2','3','4','5','6','7','8']\n",
    ")"
   ]
  },
  {
   "cell_type": "code",
   "execution_count": 27,
   "metadata": {},
   "outputs": [
    {
     "output_type": "execute_result",
     "data": {
      "text/plain": [
       "       T [°C]  p [MPa]    i [kJ/kg]  v [m3/kg]  x [-]\n",
       "1  370.000000     3.10  3160.749134   0.090933    1.0\n",
       "2  332.731060     3.33  3066.801952   0.078112    1.0\n",
       "3  348.000000     3.33  3103.887515   0.080685    1.0\n",
       "4  240.564637     3.38  2803.002165   0.059114    1.0\n",
       "5  240.564637     3.38  1040.218537   0.001231    0.0\n",
       "6  236.000000     3.68  1018.575269   0.001220    0.0\n",
       "7  217.000000     3.74   930.261487   0.001183    0.0\n",
       "8   71.000000     4.00   300.442788   0.001022    0.0"
      ],
      "text/html": "<div>\n<style scoped>\n    .dataframe tbody tr th:only-of-type {\n        vertical-align: middle;\n    }\n\n    .dataframe tbody tr th {\n        vertical-align: top;\n    }\n\n    .dataframe thead th {\n        text-align: right;\n    }\n</style>\n<table border=\"1\" class=\"dataframe\">\n  <thead>\n    <tr style=\"text-align: right;\">\n      <th></th>\n      <th>T [°C]</th>\n      <th>p [MPa]</th>\n      <th>i [kJ/kg]</th>\n      <th>v [m3/kg]</th>\n      <th>x [-]</th>\n    </tr>\n  </thead>\n  <tbody>\n    <tr>\n      <th>1</th>\n      <td>370.000000</td>\n      <td>3.10</td>\n      <td>3160.749134</td>\n      <td>0.090933</td>\n      <td>1.0</td>\n    </tr>\n    <tr>\n      <th>2</th>\n      <td>332.731060</td>\n      <td>3.33</td>\n      <td>3066.801952</td>\n      <td>0.078112</td>\n      <td>1.0</td>\n    </tr>\n    <tr>\n      <th>3</th>\n      <td>348.000000</td>\n      <td>3.33</td>\n      <td>3103.887515</td>\n      <td>0.080685</td>\n      <td>1.0</td>\n    </tr>\n    <tr>\n      <th>4</th>\n      <td>240.564637</td>\n      <td>3.38</td>\n      <td>2803.002165</td>\n      <td>0.059114</td>\n      <td>1.0</td>\n    </tr>\n    <tr>\n      <th>5</th>\n      <td>240.564637</td>\n      <td>3.38</td>\n      <td>1040.218537</td>\n      <td>0.001231</td>\n      <td>0.0</td>\n    </tr>\n    <tr>\n      <th>6</th>\n      <td>236.000000</td>\n      <td>3.68</td>\n      <td>1018.575269</td>\n      <td>0.001220</td>\n      <td>0.0</td>\n    </tr>\n    <tr>\n      <th>7</th>\n      <td>217.000000</td>\n      <td>3.74</td>\n      <td>930.261487</td>\n      <td>0.001183</td>\n      <td>0.0</td>\n    </tr>\n    <tr>\n      <th>8</th>\n      <td>71.000000</td>\n      <td>4.00</td>\n      <td>300.442788</td>\n      <td>0.001022</td>\n      <td>0.0</td>\n    </tr>\n  </tbody>\n</table>\n</div>"
     },
     "metadata": {},
     "execution_count": 27
    }
   ],
   "source": [
    "bodova_tabulka\n",
    "\n",
    "# print(bodova_tabulka.to_latex())"
   ]
  },
  {
   "cell_type": "code",
   "execution_count": null,
   "metadata": {},
   "outputs": [],
   "source": []
  }
 ],
 "metadata": {
  "kernelspec": {
   "display_name": "Python 3",
   "language": "python",
   "name": "python3"
  },
  "language_info": {
   "codemirror_mode": {
    "name": "ipython",
    "version": 3
   },
   "file_extension": ".py",
   "mimetype": "text/x-python",
   "name": "python",
   "nbconvert_exporter": "python",
   "pygments_lexer": "ipython3",
   "version": "3.8.1-final"
  }
 },
 "nbformat": 4,
 "nbformat_minor": 4
}