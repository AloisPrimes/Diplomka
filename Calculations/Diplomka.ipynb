{
 "cells": [
  {
   "source": [
    "# **Diplomová práce - výpočty**\n",
    "### **Jméno:** Alois Primes\n",
    "### **Název práce:** MODULARNÍ HORIZONTÁLNÍ KOTEL – HRSG\n",
    "### **Zadání**\n",
    "**Stručná charakteristika problematiky úkolu:**\n",
    "\n",
    "Práce je zaměřena na návrh horizontálního kotle využívajícího spaliny za plynovou spalovací turbínou pro produkci páry k dalšímu energetickému využití. Kotel by měl být moderní konstrukce, zahrnující\n",
    "maximální prefabrikaci transportních bloků (modulů), která je ovlivněna podmínkami dopravního profilu na místo stavby. Kotel bude řešen jako modulární, s horizontálním prouděním spalin, konvekčním\n",
    "výparníkem, výhřevnými plochami ohříváku vody (ekonomizéry) a přehříváky páry s regulací teploty páry vstřikem napájecí vody, odebírané mezi dvěma ekonomizéry.\n",
    "\n",
    "**Základní parametry kotle jsou:** parní výkon 76 t/h, tlak 3,1 MPa, výstupní teplota 370 °C. Teplota\n",
    "napájecí vody kotle je 71°C. Další parametry kotle a odpadních spalin budou upřesněny v rámci\n",
    "realizace práce.\n",
    "\n",
    "**Cíle diplomové práce:**\n",
    "\n",
    "Zpracovat tepelný výpočet kotle.\n",
    "Zpracovat rozměrový návrh kotle, včetně základní výkresové dokumentace kotle a dispozičního\n",
    "řešení.\n",
    "Vyčíslit dosaženou účinnost kotle při vztažné teplotě 25 °C, použijte přímou metodu.\n",
    "Zpracovat diagram průběhu teploty pracovního média a spalin a stanovit bilanci vstřiku."
   ],
   "cell_type": "markdown",
   "metadata": {}
  },
  {
   "cell_type": "code",
   "execution_count": 4,
   "metadata": {},
   "outputs": [],
   "source": [
    "# Instalace a aktualizace modulů\n",
    "\n",
    "# !pip install --upgrade pip\n",
    "# !pip install --upgrade forallpeople\n",
    "# !pip install --upgrade handcalcs\n",
    "# !pip install --upgrade pytexit\n",
    "# !pip install --upgrade pyXSteam\n",
    "# !pip install --upgrade CoolProp"
   ]
  },
  {
   "cell_type": "code",
   "execution_count": 5,
   "metadata": {},
   "outputs": [],
   "source": [
    "# Import knihoven\n",
    "\n",
    "from CoolProp.CoolProp import PropsSI\n",
    "import handcalcs.render\n",
    "from math import pi, e\n",
    "from pyXSteam.XSteam import XSteam"
   ]
  },
  {
   "cell_type": "code",
   "execution_count": 6,
   "metadata": {},
   "outputs": [],
   "source": [
    "# Nastavení prostředí a modulů\n",
    "\n",
    "%decimal_separator ,\n",
    "steam = XSteam(XSteam.UNIT_SYSTEM_MKS) # Jednotky: m/kg/sec/°C/bar/W"
   ]
  },
  {
   "source": [
    "## Definice pomocných funkcí"
   ],
   "cell_type": "markdown",
   "metadata": {}
  },
  {
   "cell_type": "code",
   "execution_count": 7,
   "metadata": {},
   "outputs": [],
   "source": [
    "def density(prvek, teplota, tlak):\n",
    "\n",
    "\t\"\"\"\n",
    "\tZadej požadavek ve formátu density('prvek', teplota [K], tlak [BAR])\n",
    "\tPříklad rho_CO2 = density('CO2', 293.15, 5.5)\n",
    "\tVypočte hustotu CO2 pro teplotu 20 °C (293.15 K) a 5.5 baru (550 000 Pa)\n",
    "    JEDNOTKA: kg/m^3\n",
    "\t\"\"\"\n",
    "\n",
    "\trho = PropsSI('D', 'T', teplota, 'P', tlak*100000, prvek)\n",
    "\treturn rho"
   ]
  },
  {
   "cell_type": "code",
   "execution_count": 8,
   "metadata": {},
   "outputs": [],
   "source": [
    "def conductivity(prvek, teplota, tlak):\n",
    "\n",
    "\t\"\"\"\n",
    "\tZadej požadavek ve formátu conductivity('prvek', teplota [K], tlak [bar])\n",
    "\tPříklad lambda_CO2 = conductivity('CO2', 293.15, 1.01325)\n",
    "\tVypočte vodivost CO2 pro teplotu 20 °C (293.15 K) a 1.01325 baru (101 325 Pa)\n",
    "    JEDNOTKA: W/m*K\n",
    "\t\"\"\"\n",
    "\n",
    "\tlambda_prvek = PropsSI('conductivity', 'T', teplota, 'P', tlak*100000, prvek)\n",
    "\treturn lambda_prvek"
   ]
  },
  {
   "cell_type": "code",
   "execution_count": 9,
   "metadata": {},
   "outputs": [],
   "source": [
    "def enthalpy(prvek, teplota, tlak):\n",
    "\n",
    "\t\"\"\"\n",
    "\tZadej požadavek ve formátu enthalpy('prvek', teplota [K], tlak [bar])\n",
    "\tPříklad h_CO2 = enthalpy('CO2', 293.15, 1.01325)\n",
    "\tVypočte entalpii CO2 pro teplotu 20 °C (293.15 K) a 1.01325 baru (101 325 Pa)\n",
    "\tJEDNOTKA: J/kg\n",
    "\t\"\"\"\n",
    "\n",
    "\th_prvek = PropsSI('H', 'T', teplota, 'P', tlak*100000, prvek)\n",
    "\treturn h_prvek"
   ]
  },
  {
   "cell_type": "code",
   "execution_count": 10,
   "metadata": {},
   "outputs": [],
   "source": [
    "def viscosity(prvek, teplota, tlak):\n",
    "\n",
    "\t\"\"\"\n",
    "\tZadej požadavek ve formátu viscosity('prvek', teplota [K], tlak [bar])\n",
    "\tPříklad eta_CO2 = viscosity('CO2', 293.15, 1.01325)\n",
    "\tVypočte viskozitu CO2 pro teplotu 20 °C (293.15 K) a 1.01325 baru (101 325 Pa)\n",
    "\tJEDNOTKA: Pa.s\n",
    "\t\"\"\"\n",
    "\n",
    "\teta_prvek = PropsSI('viscosity', 'T', teplota, 'P', tlak*100000, prvek)\n",
    "\treturn eta_prvek"
   ]
  },
  {
   "cell_type": "code",
   "execution_count": 11,
   "metadata": {},
   "outputs": [],
   "source": [
    "def cp(prvek, teplota, tlak):\n",
    "\n",
    "\t\"\"\"\n",
    "\tZadej požadavek ve formátu cp('prvek', teplota [K], tlak [bar])\n",
    "\tPříklad cp_CO2 = cp('CO2', 293.15, 1.01325)\n",
    "\tVypočte měrnou tepelnou kapacitu CO2 pro teplotu 20 °C (293.15 K) a 1.01325 baru (101 325 Pa)\n",
    "\tJEDNOTKA: J/kg*K\n",
    "\t\"\"\"\n",
    "\n",
    "\tcp_prvek = PropsSI('C', 'T', teplota, 'P', tlak*100000, prvek)\n",
    "\treturn cp_prvek"
   ]
  },
  {
   "cell_type": "code",
   "execution_count": 12,
   "metadata": {},
   "outputs": [],
   "source": [
    "def kin_viscosity(prvek, teplota, tlak):\n",
    "\n",
    "\t\"\"\"\n",
    "\tZadej požadavek ve formátu kin_viscosity('prvek', teplota [K], tlak [bar])\n",
    "\tPříklad nu_CO2 = kin_viscosity('CO2', 293.15, 1.01325)\n",
    "\tVypočte kinematickou viskozitu CO2 pro teplotu 20 °C (293.15 K) a 1.01325 baru (101 325 Pa)\n",
    "\tJEDNOTKA: m^2/s\n",
    "\t\"\"\"\n",
    "\teta_prvek = PropsSI('viscosity', 'T', teplota, 'P', tlak*100000, prvek)\n",
    "\trho_prvek = PropsSI('D', 'T', teplota, 'P', tlak*100000, prvek)\n",
    "\tnu_prvek = eta_prvek/rho_prvek\n",
    "\treturn nu_prvek"
   ]
  },
  {
   "source": [
    "## Základní parametry kotle"
   ],
   "cell_type": "markdown",
   "metadata": {}
  },
  {
   "cell_type": "code",
   "execution_count": 13,
   "metadata": {},
   "outputs": [
    {
     "output_type": "display_data",
     "data": {
      "text/plain": "<IPython.core.display.Latex object>",
      "text/latex": "\\[\n\\begin{aligned}\nm_{p} &= 76 \\; \\;\\textrm{(t/h)}\n &p_{out} &= 3{,}1 \\; \\;\\textrm{(MPa)}\n &t_{out} &= 370 \\; \\;\\textrm{(°C)}\n\\\\[10pt]\n t_{nv} &= 71 \\; \\;\\textrm{(°C)}\n &m_{vst} &= 0{,}36 \\; \\;\\textrm{(kg/s)}\n &t_{vst} &= 217 \\; \\;\\textrm{(°C)}\n\\\\[10pt]\\end{aligned}\n\\]"
     },
     "metadata": {}
    }
   ],
   "source": [
    "%%render params 2\n",
    "m_p = 76        #t/h\n",
    "p_out = 3.1     #MPa\n",
    "t_out = 370     #°C\n",
    "t_nv = 71       #°C\n",
    "m_vst = 0.36    #kg/s\n",
    "t_vst = 217     #°C"
   ]
  },
  {
   "source": [
    "## Parametry spalin ze spalovací turbíny"
   ],
   "cell_type": "markdown",
   "metadata": {}
  },
  {
   "cell_type": "code",
   "execution_count": 14,
   "metadata": {},
   "outputs": [
    {
     "output_type": "display_data",
     "data": {
      "text/plain": "<IPython.core.display.Latex object>",
      "text/latex": "\\[\n\\begin{aligned}\nm_{sp} &= 130{,}1 \\; \\;\\textrm{(kg/s)}\n &t_{sp} &= 562{,}0 \\; \\;\\textrm{(°C)}\n &x_{N2} &= 7{,}457 \\times 10 ^ {-1 } \\; \n\\\\[10pt]\n x_{O2} &= 1{,}289 \\times 10 ^ {-1 } \\; \n &x_{H2O} &= 8{,}010 \\times 10 ^ {-2 } \\; \n &x_{CO2} &= 3{,}640 \\times 10 ^ {-2 } \\; \n\\\\[10pt]\n x_{Ar} &= 8{,}900 \\times 10 ^ {-3 } \\;\\end{aligned}\n\\]"
     },
     "metadata": {}
    }
   ],
   "source": [
    "%%render params 3\n",
    "m_sp = 130.1    #kg/s\n",
    "t_sp = 562.0    #°C\n",
    "\n",
    "# Objemové složení spalin\n",
    "x_N2 = 0.7457\n",
    "x_O2 = 0.1289\n",
    "x_H2O = 0.0801\n",
    "x_CO2 = 0.0364\n",
    "x_Ar = 0.0089"
   ]
  },
  {
   "cell_type": "code",
   "execution_count": 15,
   "metadata": {},
   "outputs": [
    {
     "output_type": "display_data",
     "data": {
      "text/plain": "<IPython.core.display.Latex object>",
      "text/latex": "\\[\n\\begin{aligned}\nM_{N2} &= 28{,}013 \\; \\;\\textrm{(kg/mol)}\n &M_{O2} &= 31{,}999 \\; \\;\\textrm{(kg/mol)}\n &M_{H2O} &= 18{,}015 \\; \\;\\textrm{(kg/mol)}\n\\\\[10pt]\n M_{CO2} &= 44{,}01 \\; \\;\\textrm{(kg/mol)}\n &M_{Ar} &= 39{,}948 \\; \\;\\textrm{(kg/mol)}\\end{aligned}\n\\]"
     },
     "metadata": {}
    }
   ],
   "source": [
    "%%render params 3\n",
    "\n",
    "# Molární hmotnost složek spalin (z podkladů)\n",
    "M_N2 = 28.0134     #kg/mol\n",
    "M_O2 = 31.9988     #kg/mol\n",
    "M_H2O = 18.0152    #kg/mol\n",
    "M_CO2 = 44.0095    #kg/mol\n",
    "M_Ar = 39.9480     #kg/mol"
   ]
  },
  {
   "cell_type": "code",
   "execution_count": 16,
   "metadata": {},
   "outputs": [
    {
     "output_type": "display_data",
     "data": {
      "text/plain": "<IPython.core.display.Latex object>",
      "text/latex": "\\[\n\\begin{aligned}\n\\rho_{N2} &= 1{,}25 \\; \\;\\textrm{(kg/m3)}\n &\\rho_{O2} &= 1{,}429 \\; \\;\\textrm{(kg/m3)}\n &\\rho_{H2O} &= 8{,}038 \\times 10 ^ {-1 } \\; \\;\\textrm{(kg/m3)}\n\\\\[10pt]\n \\rho_{CO2} &= 1{,}977 \\; \\;\\textrm{(kg/m3)}\n &\\rho_{Ar} &= 1{,}784 \\; \\;\\textrm{(kg/m3)}\\end{aligned}\n\\]"
     },
     "metadata": {}
    }
   ],
   "source": [
    "%%render params\n",
    "\n",
    "# Hustota složek spalin (z podkladů)\n",
    "rho_N2 = 1.2504     #kg/m3\n",
    "rho_O2 = 1.4290     #kg/m3\n",
    "rho_H2O = 0.8038    #kg/m3\n",
    "rho_CO2 = 1.9772    #kg/m3\n",
    "rho_Ar = 1.7840     #kg/m3"
   ]
  },
  {
   "cell_type": "code",
   "execution_count": 17,
   "metadata": {},
   "outputs": [
    {
     "output_type": "display_data",
     "data": {
      "text/plain": "<IPython.core.display.Latex object>",
      "text/latex": "\\[\n\\begin{aligned}\nv_{N2} &= 22{,}403 \\; \\;\\textrm{(m3/kg)}\n &v_{O2} &= 22{,}392 \\; \\;\\textrm{(m3/kg)}\n &v_{H2O} &= 22{,}414 \\; \\;\\textrm{(m3/kg)}\n\\\\[10pt]\n v_{CO2} &= 22{,}258 \\; \\;\\textrm{(m3/kg)}\n &v_{Ar} &= 22{,}393 \\; \\;\\textrm{(m3/kg)}\\end{aligned}\n\\]"
     },
     "metadata": {}
    }
   ],
   "source": [
    "%%render params 3\n",
    "\n",
    "# Měrný objem složek spalin (z podkladů)\n",
    "v_N2 = 22.403     #m3/kg\n",
    "v_O2 = 22.392     #m3/kg\n",
    "v_H2O = 22.414    #m3/kg\n",
    "v_CO2 = 22.258    #m3/kg\n",
    "v_Ar = 22.393     #m3/kg"
   ]
  },
  {
   "source": [
    "#### Bod 1 (Konec druhého přehříváku, výstupní pára)"
   ],
   "cell_type": "markdown",
   "metadata": {}
  },
  {
   "cell_type": "code",
   "execution_count": 18,
   "metadata": {},
   "outputs": [
    {
     "output_type": "display_data",
     "data": {
      "text/plain": "<IPython.core.display.Latex object>",
      "text/latex": "\\[\n\\begin{aligned}\nt_{1} &= 370 \\; \\;\\textrm{(°C)}\n &p_{1} &= 3{,}1 \\; \\;\\textrm{(MPa)}\n &i_{1} &= 3160{,}749 \\; \\;\\textrm{(kJ/kg)}\n\\\\[10pt]\n v_{1} &= 9{,}093 \\times 10 ^ {-2 } \\; \\;\\textrm{(m3/kg)}\\end{aligned}\n\\]"
     },
     "metadata": {}
    }
   ],
   "source": [
    "%%render params\n",
    "t_1 = t_out                     #°C\n",
    "p_1 = p_out                     #MPa\n",
    "i_1 = steam.h_pt(p_1*10,t_1)    #kJ/kg\n",
    "v_1 = steam.v_pt(p_1*10,t_1)     #m3/kg"
   ]
  },
  {
   "source": [
    "#### Bod 2 (Začátek druhého přehříváku, po vstřiku) DOPOČÍTAT!!!"
   ],
   "cell_type": "markdown",
   "metadata": {}
  },
  {
   "cell_type": "code",
   "execution_count": 19,
   "metadata": {},
   "outputs": [
    {
     "output_type": "display_data",
     "data": {
      "text/plain": "<IPython.core.display.Latex object>",
      "text/latex": "\\[\n\\begin{aligned}\nt_{2} &= 370 \\; \\;\\textrm{(°C)}\n &p_{2} &= 3{,}1 \\; \\;\\textrm{(MPa)}\n &i_{2} &= 3160{,}749 \\; \\;\\textrm{(kJ/kg)}\n\\\\[10pt]\n v_{2} &= 9{,}093 \\times 10 ^ {-2 } \\; \\;\\textrm{(m3/kg)}\\end{aligned}\n\\]"
     },
     "metadata": {}
    }
   ],
   "source": [
    "%%render params\n",
    "t_2 = t_out                     #°C\n",
    "p_2 = p_out                     #MPa\n",
    "i_2 = steam.h_pt(p_2*10,t_2)    #kJ/kg\n",
    "v_2 = steam.v_pt(p_2*10,t_2)    #m3/kg"
   ]
  },
  {
   "source": [
    "#### Bod 3 (Konec prvního přehříváku, před vstřikem)"
   ],
   "cell_type": "markdown",
   "metadata": {}
  },
  {
   "cell_type": "code",
   "execution_count": 20,
   "metadata": {},
   "outputs": [
    {
     "output_type": "display_data",
     "data": {
      "text/plain": "<IPython.core.display.Latex object>",
      "text/latex": "\\[\n\\begin{aligned}\nt_{3} &= 348 \\; \\;\\textrm{(°C)}\n &p_{3} &= 3{,}33 \\; \\;\\textrm{(MPa)}\n &i_{3} &= 3103{,}888 \\; \\;\\textrm{(kJ/kg)}\n\\\\[10pt]\n v_{3} &= 8{,}069 \\times 10 ^ {-2 } \\; \\;\\textrm{(m3/kg)}\\end{aligned}\n\\]"
     },
     "metadata": {}
    }
   ],
   "source": [
    "%%render params\n",
    "t_3 = 348                       #°C\n",
    "p_3 = 3.33                      #MPa\n",
    "i_3 = steam.h_pt(p_3*10,t_3)    #kJ/kg\n",
    "v_3 = steam.v_pt(p_3*10,t_3)    #m3/kg"
   ]
  },
  {
   "source": [
    "#### Bod 4 (Začátek prvního přehříváku, po druhém výparníku)"
   ],
   "cell_type": "markdown",
   "metadata": {}
  },
  {
   "cell_type": "code",
   "execution_count": 21,
   "metadata": {},
   "outputs": [
    {
     "output_type": "display_data",
     "data": {
      "text/plain": "<IPython.core.display.Latex object>",
      "text/latex": "\\[\n\\begin{aligned}\np_{4} &= 3{,}38 \\; \\;\\textrm{(MPa)}\n &t_{4} &= 240{,}565 \\; \\;\\textrm{(°C)}\n &i_{4} &= 2803{,}002 \\; \\;\\textrm{(kJ/kg)}\n\\\\[10pt]\n v_{4} &= 5{,}911 \\times 10 ^ {-2 } \\; \\;\\textrm{(m3/kg)}\\end{aligned}\n\\]"
     },
     "metadata": {}
    }
   ],
   "source": [
    "%%render params\n",
    "p_4 = 3.38                      #MPa\n",
    "t_4 = steam.tsat_p(p_4*10)      #°C\n",
    "i_4 = steam.hV_p(p_4*10)        #kJ/kg\n",
    "v_4 = steam.vV_p(p_4*10)        #m3/kg"
   ]
  },
  {
   "source": [
    "#### Bod 5 (začátek prvního výparníku, kde je sytá kapalina)"
   ],
   "cell_type": "markdown",
   "metadata": {}
  },
  {
   "cell_type": "code",
   "execution_count": 22,
   "metadata": {},
   "outputs": [
    {
     "output_type": "display_data",
     "data": {
      "text/plain": "<IPython.core.display.Latex object>",
      "text/latex": "\\[\n\\begin{aligned}\np_{5} &= 3{,}38 \\; \\;\\textrm{(MPa)}\n &t_{5} &= 240{,}565 \\; \\;\\textrm{(°C)}\n &i_{5} &= 1040{,}219 \\; \\;\\textrm{(kJ/kg)}\n\\\\[10pt]\n v_{5} &= 1{,}231 \\times 10 ^ {-3 } \\; \\;\\textrm{(m3/kg)}\\end{aligned}\n\\]"
     },
     "metadata": {}
    }
   ],
   "source": [
    "%%render params\n",
    "p_5 = 3.38                      #MPa\n",
    "t_5 = steam.tsat_p(p_5*10)      #°C\n",
    "i_5 = steam.hL_p(p_5*10)        #kJ/kg\n",
    "v_5 = steam.vL_p(p_5*10)        #m3/kg"
   ]
  },
  {
   "source": [
    "#### Bod 6 (????)"
   ],
   "cell_type": "markdown",
   "metadata": {}
  },
  {
   "cell_type": "code",
   "execution_count": null,
   "metadata": {},
   "outputs": [],
   "source": []
  }
 ],
 "metadata": {
  "kernelspec": {
   "display_name": "Python 3",
   "language": "python",
   "name": "python3"
  },
  "language_info": {
   "codemirror_mode": {
    "name": "ipython",
    "version": 3
   },
   "file_extension": ".py",
   "mimetype": "text/x-python",
   "name": "python",
   "nbconvert_exporter": "python",
   "pygments_lexer": "ipython3",
   "version": "3.8.1-final"
  }
 },
 "nbformat": 4,
 "nbformat_minor": 4
}